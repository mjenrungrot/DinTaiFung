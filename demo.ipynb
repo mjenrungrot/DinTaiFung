{
 "cells": [
  {
   "cell_type": "code",
   "execution_count": null,
   "metadata": {},
   "outputs": [],
   "source": [
    "import IPython.display as ipd\n",
    "import torch\n",
    "import matplotlib.pyplot as plt\n",
    "import scipy.io\n",
    "import numpy as np\n",
    "import torch.nn.functional as F\n",
    "import librosa.output\n",
    "from matplotlib import cm\n",
    "import matplotlib\n",
    "import mir_eval\n",
    "from sdr import GetSDR, compute_measures"
   ]
  },
  {
   "cell_type": "code",
   "execution_count": null,
   "metadata": {},
   "outputs": [],
   "source": [
    "matplotlib.style.use('ggplot')\n",
    "np.random.seed(123)\n",
    "SAMPLE_RATE=22050"
   ]
  },
  {
   "cell_type": "code",
   "execution_count": null,
   "metadata": {},
   "outputs": [],
   "source": [
    "from data import SpatialAudioDatasetWaveform, RealDataset, MixedDataset\n",
    "from network import center_trim, Demucs"
   ]
  },
  {
   "cell_type": "code",
   "execution_count": null,
   "metadata": {},
   "outputs": [],
   "source": [
    "import os\n",
    "os.environ[\"CUDA_DEVICE_ORDER\"]=\"PCI_BUS_ID\"   # see issue #152\n",
    "os.environ[\"CUDA_VISIBLE_DEVICES\"]=\"0\""
   ]
  },
  {
   "cell_type": "code",
   "execution_count": null,
   "metadata": {},
   "outputs": [],
   "source": [
    "# fg_file = '/projects/grail/vjayaram/DinTaiFung/dataset_generators/harry_potter_10min_16b.wav'\n",
    "#data_dir_real = '/projects/grail/audiovisual/datasets/DinTaiFung/2mics_real_vctk_recorded/test/'\n",
    "#data_dir = '/projects/grail/audiovisual/datasets/DinTaiFung/2mics_real_samples_synthetic_composite/train/'\n",
    "#data_test = RealDataset(data_dir_real, sr=SAMPLE_RATE, short_data=True)\n",
    "\n",
    "data_dir_synth = \"/projects/grail/audiovisual/datasets/DinTaiFung/pyroom_6mics_multiplevoices/test\"\n",
    "data_test = SpatialAudioDatasetWaveform(data_dir_synth, n_mics=6, sr=SAMPLE_RATE, target_fg_std=None, target_bg_std=None)\n",
    "\n",
    "#data_test = MixedDataset(data_dir_synth, data_dir_real, 1000, sr=SAMPLE_RATE, perturb_prob=0.0, short_data=True)\n",
    "device = torch.device('cuda:0')"
   ]
  },
  {
   "cell_type": "code",
   "execution_count": null,
   "metadata": {},
   "outputs": [],
   "source": [
    "kwargs = {\n",
    "    'num_workers': 0,\n",
    "    'pin_memory': True\n",
    "}"
   ]
  },
  {
   "cell_type": "code",
   "execution_count": null,
   "metadata": {},
   "outputs": [],
   "source": [
    "import torch\n",
    "print(torch.rand(1, device=\"cuda\"))"
   ]
  },
  {
   "cell_type": "code",
   "execution_count": null,
   "metadata": {},
   "outputs": [],
   "source": [
    "test_loader = torch.utils.data.DataLoader(data_test,\n",
    "                                          batch_size=32,\n",
    "                                          shuffle=False,\n",
    "                                          **kwargs)"
   ]
  },
  {
   "cell_type": "code",
   "execution_count": null,
   "metadata": {
    "scrolled": true
   },
   "outputs": [],
   "source": [
    "%ls checkpoints/90degrees_6mics/"
   ]
  },
  {
   "cell_type": "code",
   "execution_count": null,
   "metadata": {},
   "outputs": [],
   "source": [
    "model = Demucs(sources=2, n_audio_channels=6)"
   ]
  },
  {
   "cell_type": "code",
   "execution_count": null,
   "metadata": {
    "scrolled": false
   },
   "outputs": [],
   "source": [
    "model.load_state_dict(torch.load('checkpoints/90degrees_6mics/90degrees_6mics_1.pt'))\n",
    "#model.load_state_dict(torch.load('checkpoints/vctk_real_recording_22050_mixed/vctk_real_recording_22050_mixed_2.pt'))\n",
    "#model.load_state_dict(torch.load('checkpoints/vctk_real_recording_3200_new_mics/vctk_real_recording_3200_new_mics_24.pt'))\n",
    "#model.load_state_dict(torch.load('checkpoints/pyroom_synthetic_3voices_22050/pyroom_synthetic_3voices_22050_22.pt'))\n",
    "# model.load_state_dict(torch.load('checkpoints/vctk_real_recording_22050_multiplevoices/vctk_real_recording_22050_multiplevoices_7.pt'))\n",
    "model.train = False\n",
    "model.to(device)"
   ]
  },
  {
   "cell_type": "code",
   "execution_count": null,
   "metadata": {},
   "outputs": [],
   "source": [
    "np.random.seed(123)\n",
    "with torch.no_grad():\n",
    "    #for batch_idx, (type_name, (data, label_voice_signals)) in enumerate(test_loader):\n",
    "    for batch_idx, (data, label_voice_signals) in enumerate(test_loader):\n",
    "        import pdb\n",
    "        pdb.set_trace()\n",
    "        print(batch_idx)\n",
    "        if batch_idx != 0: continue\n",
    "#         data = label_bg_signals[:,0,:,:]\n",
    "        data = data.to(device)\n",
    "        label_voice_signals = label_voice_signals.to(device)\n",
    "\n",
    "        # Normalize input\n",
    "        data_transformed = (data * 2**15).round() / 2**15\n",
    "        ref = data_transformed.mean(0)\n",
    "        print(\"Ref mean {}, ref std {}\".format(ref.mean(), ref.std()))\n",
    "        # ref_mean = -0.00035191531060263515  # From synthetic dataset\n",
    "        # ref_std = 0.044271234422922134\n",
    "        data_transformed = (data_transformed - ref.mean()) / (ref.std())\n",
    "\n",
    "        # Run through the model\n",
    "        valid_length = model.valid_length(data_transformed.shape[-1])\n",
    "        delta = valid_length - data_transformed.shape[-1]\n",
    "        padded = F.pad(data_transformed, (delta // 2, delta - delta // 2))\n",
    "\n",
    "        output_signal, output_locs = model(padded)\n",
    "        output_signal = center_trim(output_signal, data_transformed)\n",
    "        output_locs = center_trim(output_locs, data_transformed)\n",
    "        \n",
    "        output_signal = output_signal * ref.std() + ref.mean()\n",
    "        output_voices = output_signal[:, 0]\n",
    "\n",
    "        break"
   ]
  },
  {
   "cell_type": "code",
   "execution_count": null,
   "metadata": {},
   "outputs": [],
   "source": [
    "print(output_voices.shape)\n",
    "print(label_voice_signals.shape)\n",
    "for i in range(32):\n",
    "    print(\"----------------\")\n",
    "    #print(type_name[i])\n",
    "    print(\"idx {} loss {}\".format(i, model.voice_loss(output_voices[i], label_voice_signals[i, 0])[0]))\n",
    "    print(label_voice_signals[i,:,:].cpu().detach().numpy().std())\n",
    "    \n",
    "    #import pdb\n",
    "    #pdb.set_trace()\n",
    "    #input_sdr, input_sir, input_sar, input_perm = mir_eval.separation.bss_eval_sources(label_voice_signals[i, 0].cpu().numpy(), data[i].cpu().numpy(), compute_permutation=False)\n",
    "    #output_sdr, output_sir, output_sar, output_perm = mir_eval.separation.bss_eval_sources(label_voice_signals[i, 0].cpu().numpy(), output_voices[i].cpu().numpy(), compute_permutation=False)\n",
    "    #print(\"idx {} input SDR {} output SDR {}\".format(i, input_sdr, output_sdr))"
   ]
  },
  {
   "cell_type": "code",
   "execution_count": null,
   "metadata": {},
   "outputs": [],
   "source": [
    "idx = 21\n",
    "inputs = data[idx,:,:].cpu().detach().numpy()"
   ]
  },
  {
   "cell_type": "code",
   "execution_count": null,
   "metadata": {},
   "outputs": [],
   "source": [
    "label_voices = label_voice_signals[idx,:,:].cpu().detach().numpy()"
   ]
  },
  {
   "cell_type": "code",
   "execution_count": null,
   "metadata": {},
   "outputs": [],
   "source": [
    "output_voice_signals = output_voices[idx,:,:].cpu().detach().numpy()\n",
    "print(output_voice_signals.shape)"
   ]
  },
  {
   "cell_type": "code",
   "execution_count": null,
   "metadata": {},
   "outputs": [],
   "source": [
    "ipd.Audio(data=(inputs[0]), rate=SAMPLE_RATE, normalize=False)"
   ]
  },
  {
   "cell_type": "code",
   "execution_count": null,
   "metadata": {},
   "outputs": [],
   "source": [
    "ipd.Audio(data=(label_voices[0]), rate=SAMPLE_RATE, normalize=False)"
   ]
  },
  {
   "cell_type": "code",
   "execution_count": null,
   "metadata": {},
   "outputs": [],
   "source": [
    "ipd.Audio(data=output_voice_signals[0], rate=SAMPLE_RATE, normalize=False)"
   ]
  },
  {
   "cell_type": "code",
   "execution_count": null,
   "metadata": {},
   "outputs": [],
   "source": [
    "def correlations(data):\n",
    "    correlations = []\n",
    "    for offset in range(-100, 100, 1):\n",
    "        correlation = np.mean((np.roll(data[0], offset) - data[1])**2)\n",
    "        correlations.append(correlation)\n",
    "    return np.argmin(correlations)"
   ]
  },
  {
   "cell_type": "code",
   "execution_count": null,
   "metadata": {},
   "outputs": [],
   "source": [
    "ipd.Audio(data=(output_bg_signals[0]), rate=22050, normalize=True)"
   ]
  },
  {
   "cell_type": "code",
   "execution_count": null,
   "metadata": {},
   "outputs": [],
   "source": [
    "from librosa.core import stft, istft\n",
    "from librosa.display import specshow"
   ]
  },
  {
   "cell_type": "code",
   "execution_count": null,
   "metadata": {},
   "outputs": [],
   "source": [
    "y = inputs[0]"
   ]
  },
  {
   "cell_type": "code",
   "execution_count": null,
   "metadata": {},
   "outputs": [],
   "source": [
    "D = librosa.amplitude_to_db(np.abs(librosa.stft(y)), ref=1.0)\n",
    "plt.figure(figsize=(16, 8), dpi=300)\n",
    "plt.subplot(1, 2, 1)\n",
    "specshow(D, y_axis='linear', cmap=cm.jet)\n",
    "plt.colorbar(format='%+2.0f dB')\n",
    "plt.title('Linear-frequency power spectrogram')\n",
    "plt.subplot(1, 2, 2)\n",
    "specshow(D, y_axis='log', cmap=cm.jet)\n",
    "plt.colorbar(format='%+2.0f dB')\n",
    "plt.title('Log-frequency power spectrogram')\n",
    "plt.plot()"
   ]
  },
  {
   "cell_type": "code",
   "execution_count": null,
   "metadata": {},
   "outputs": [],
   "source": [
    "y = output_voice_signals.mean(0)"
   ]
  },
  {
   "cell_type": "code",
   "execution_count": null,
   "metadata": {},
   "outputs": [],
   "source": [
    "D = librosa.amplitude_to_db(np.abs(librosa.stft(y)), ref=1.0)\n",
    "plt.figure(figsize=(16, 8), dpi=300)\n",
    "plt.subplot(1, 2, 1)\n",
    "specshow(D, y_axis='linear', cmap=cm.jet)\n",
    "plt.colorbar(format='%+2.0f dB')\n",
    "plt.title('Linear-frequency power spectrogram')\n",
    "plt.subplot(1, 2, 2)\n",
    "specshow(D, y_axis='log', cmap=cm.jet)\n",
    "plt.colorbar(format='%+2.0f dB')\n",
    "plt.title('Log-frequency power spectrogram')\n",
    "plt.plot()"
   ]
  },
  {
   "cell_type": "code",
   "execution_count": null,
   "metadata": {},
   "outputs": [],
   "source": [
    "y = label_voices[0][0]"
   ]
  },
  {
   "cell_type": "code",
   "execution_count": null,
   "metadata": {},
   "outputs": [],
   "source": [
    "D = librosa.amplitude_to_db(np.abs(librosa.stft(y)), ref=1.0)\n",
    "plt.figure(figsize=(16, 8), dpi=300)\n",
    "plt.subplot(1, 2, 1)\n",
    "specshow(D, y_axis='linear', cmap=cm.jet)\n",
    "plt.colorbar(format='%+2.0f dB')\n",
    "plt.title('Linear-frequency power spectrogram')\n",
    "plt.subplot(1, 2, 2)\n",
    "specshow(D, y_axis='log', cmap=cm.jet)\n",
    "plt.colorbar(format='%+2.0f dB')\n",
    "plt.title('Log-frequency power spectrogram')\n",
    "plt.plot()"
   ]
  },
  {
   "cell_type": "code",
   "execution_count": null,
   "metadata": {},
   "outputs": [],
   "source": [
    "plt.figure(figsize=(8,6), dpi=300)\n",
    "counts, bins = np.histogram(D, bins=30)\n",
    "plt.hist(bins[:-1], bins, weights=counts)\n",
    "plt.ylim([1, 1e5])\n",
    "plt.yscale('log')\n",
    "plt.ylabel('count')\n",
    "plt.xlabel('dB')\n",
    "plt.title('Histogram')\n",
    "plt.plot()"
   ]
  },
  {
   "cell_type": "code",
   "execution_count": null,
   "metadata": {},
   "outputs": [],
   "source": [
    "Y = stft(y)\n",
    "plt.plot(np.sum(np.abs(Y), axis=1))"
   ]
  },
  {
   "cell_type": "code",
   "execution_count": null,
   "metadata": {},
   "outputs": [],
   "source": [
    "Y[:2, :] = 0\n",
    "plt.plot(np.sum(np.abs(Y), axis=1))"
   ]
  },
  {
   "cell_type": "code",
   "execution_count": null,
   "metadata": {},
   "outputs": [],
   "source": [
    "Y[np.where(np.sum(np.abs(Y), axis=1) >= 10), :] = 0\n",
    "plt.plot(np.sum(np.abs(Y), axis=1))"
   ]
  },
  {
   "cell_type": "code",
   "execution_count": null,
   "metadata": {},
   "outputs": [],
   "source": [
    "# Y = librosa.util.normalize(Y)"
   ]
  },
  {
   "cell_type": "code",
   "execution_count": null,
   "metadata": {},
   "outputs": [],
   "source": [
    "plt.plot(istft(Y))"
   ]
  },
  {
   "cell_type": "code",
   "execution_count": null,
   "metadata": {},
   "outputs": [],
   "source": [
    "D = librosa.amplitude_to_db(np.abs(Y), ref=1.0)\n",
    "librosa.display.specshow(D, y_axis='log', cmap=cm.jet)\n",
    "plt.colorbar(format='%+2.0f dB')\n",
    "plt.title('Log-frequency power spectrogram')"
   ]
  },
  {
   "cell_type": "code",
   "execution_count": null,
   "metadata": {},
   "outputs": [],
   "source": [
    "newy = istft(Y)"
   ]
  },
  {
   "cell_type": "code",
   "execution_count": null,
   "metadata": {},
   "outputs": [],
   "source": [
    "D = librosa.amplitude_to_db(np.abs(librosa.stft(newy)), ref=1.0)\n",
    "plt.figure(figsize=(16, 8), dpi=300)\n",
    "plt.subplot(1, 2, 1)\n",
    "librosa.display.specshow(D, y_axis='linear', cmap=cm.jet)\n",
    "plt.colorbar(format='%+2.0f dB')\n",
    "plt.title('Linear-frequency power spectrogram')\n",
    "plt.subplot(1, 2, 2)\n",
    "librosa.display.specshow(D, y_axis='log', cmap=cm.jet)\n",
    "plt.colorbar(format='%+2.0f dB')\n",
    "plt.title('Log-frequency power spectrogram')\n",
    "plt.plot()"
   ]
  },
  {
   "cell_type": "code",
   "execution_count": null,
   "metadata": {},
   "outputs": [],
   "source": [
    "plt.figure(figsize=(8,6), dpi=300)\n",
    "counts, bins = np.histogram(D, bins=30)\n",
    "plt.hist(bins[:-1], bins, weights=counts)\n",
    "plt.ylim([1, 1e5])\n",
    "plt.yscale('log')\n",
    "plt.ylabel('count')\n",
    "plt.xlabel('dB')\n",
    "plt.title('Histogram')\n",
    "plt.plot()"
   ]
  },
  {
   "cell_type": "code",
   "execution_count": null,
   "metadata": {},
   "outputs": [],
   "source": [
    "y_gt = label_voices[0]\n",
    "D = librosa.amplitude_to_db(np.abs(librosa.stft(y_gt)), ref=1.0)\n",
    "plt.figure(figsize=(16, 8), dpi=300)\n",
    "plt.subplot(1, 2, 1)\n",
    "librosa.display.specshow(D, y_axis='linear', cmap=cm.jet)\n",
    "plt.colorbar(format='%+2.0f dB')\n",
    "plt.title('Linear-frequency power spectrogram')\n",
    "plt.subplot(1, 2, 2)\n",
    "librosa.display.specshow(D, y_axis='log', cmap=cm.jet)\n",
    "plt.colorbar(format='%+2.0f dB')\n",
    "plt.title('Log-frequency power spectrogram')\n",
    "plt.plot()"
   ]
  },
  {
   "cell_type": "code",
   "execution_count": null,
   "metadata": {},
   "outputs": [],
   "source": [
    "plt.figure(figsize=(8,6), dpi=300)\n",
    "counts, bins = np.histogram(D, bins=30)\n",
    "plt.hist(bins[:-1], bins, weights=counts)\n",
    "plt.ylim([1, 1e5])\n",
    "plt.yscale('log')\n",
    "plt.ylabel('count')\n",
    "plt.xlabel('dB')\n",
    "plt.title('Histogram')\n",
    "plt.plot()"
   ]
  },
  {
   "cell_type": "code",
   "execution_count": null,
   "metadata": {},
   "outputs": [],
   "source": [
    "x = data[0][1].cpu().numpy()"
   ]
  },
  {
   "cell_type": "code",
   "execution_count": null,
   "metadata": {},
   "outputs": [],
   "source": [
    "ipd.Audio(data=(newy), rate=22050)"
   ]
  },
  {
   "cell_type": "code",
   "execution_count": null,
   "metadata": {},
   "outputs": [],
   "source": [
    "ipd.Audio(data=(labels[3]), rate=22050)"
   ]
  },
  {
   "cell_type": "code",
   "execution_count": null,
   "metadata": {},
   "outputs": [],
   "source": [
    "ipd.Audio(data=(newy), rate=22050)"
   ]
  },
  {
   "cell_type": "code",
   "execution_count": null,
   "metadata": {},
   "outputs": [],
   "source": [
    "top = np.sum(librosa.util.normalize(outputs[0]) ** 2) / outputs[0].shape[0]\n",
    "bottom = np.sum(librosa.util.normalize(labels[0]) ** 2) / labels[0].shape[0]"
   ]
  },
  {
   "cell_type": "code",
   "execution_count": null,
   "metadata": {},
   "outputs": [],
   "source": [
    "SDR = 10 * np.log10(top / bottom)"
   ]
  },
  {
   "cell_type": "code",
   "execution_count": null,
   "metadata": {},
   "outputs": [],
   "source": [
    "print(SDR)"
   ]
  },
  {
   "cell_type": "code",
   "execution_count": null,
   "metadata": {},
   "outputs": [],
   "source": [
    "binaural = False\n",
    "if outputs.shape[0] == 2:\n",
    "    binaural = True"
   ]
  },
  {
   "cell_type": "code",
   "execution_count": null,
   "metadata": {},
   "outputs": [],
   "source": [
    "import os\n",
    "base_dir = 'jan24'\n",
    "os.makedirs(base_dir, exist_ok=True)"
   ]
  },
  {
   "cell_type": "code",
   "execution_count": null,
   "metadata": {},
   "outputs": [],
   "source": [
    "if not binaural:\n",
    "    for i in range(outputs.shape[0]):\n",
    "        librosa.output.write_wav('{}/input_{}.wav'.format(base_dir, i), inputs[i], sr=22050)\n",
    "        librosa.output.write_wav('{}/output_{}.wav'.format(base_dir, i), 100 * outputs[i], sr=22050)\n",
    "        librosa.output.write_wav('{}/label_{}.wav'.format(base_dir, i), labels[i], sr=22050)\n",
    "else:\n",
    "    librosa.output.write_wav('{}/input.wav'.format(base_dir, i), np.asfortranarray(np.vstack(inputs)), sr=22050)\n",
    "    librosa.output.write_wav('{}/output.wav'.format(base_dir, i), np.asfortranarray(np.vstack(outputs)), sr=22050)\n",
    "    librosa.output.write_wav('{}/label.wav'.format(base_dir, i), np.asfortranarray(np.vstack(labels)), sr=22050)\n",
    "        "
   ]
  },
  {
   "cell_type": "markdown",
   "metadata": {},
   "source": [
    "233 => 1.121\n",
    "150 => 1.835\n",
    "100 => 1.036\n",
    "50 => 0.648"
   ]
  },
  {
   "cell_type": "code",
   "execution_count": null,
   "metadata": {},
   "outputs": [],
   "source": []
  }
 ],
 "metadata": {
  "kernelspec": {
   "display_name": "Python 3",
   "language": "python",
   "name": "python3"
  },
  "language_info": {
   "codemirror_mode": {
    "name": "ipython",
    "version": 3
   },
   "file_extension": ".py",
   "mimetype": "text/x-python",
   "name": "python",
   "nbconvert_exporter": "python",
   "pygments_lexer": "ipython3",
   "version": "3.6.5"
  }
 },
 "nbformat": 4,
 "nbformat_minor": 4
}
